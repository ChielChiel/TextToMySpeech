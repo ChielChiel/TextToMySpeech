{
  "nbformat": 4,
  "nbformat_minor": 0,
  "metadata": {
    "colab": {
      "name": "textToMySpeech.ipynb",
      "version": "0.3.2",
      "provenance": [],
      "collapsed_sections": [],
      "include_colab_link": true
    },
    "kernelspec": {
      "name": "python3",
      "display_name": "Python 3"
    }
  },
  "cells": [
    {
      "cell_type": "markdown",
      "metadata": {
        "id": "view-in-github",
        "colab_type": "text"
      },
      "source": [
        "<a href=\"https://colab.research.google.com/github/ChielChiel/TextToMySpeech/blob/master/textToMySpeech.ipynb\" target=\"_parent\"><img src=\"https://colab.research.google.com/assets/colab-badge.svg\" alt=\"Open In Colab\"/></a>"
      ]
    },
    {
      "cell_type": "markdown",
      "metadata": {
        "id": "W4v9l8mLoYCm",
        "colab_type": "text"
      },
      "source": [
        "# IMPORT\n",
        "\n",
        "---\n",
        "\n"
      ]
    },
    {
      "cell_type": "code",
      "metadata": {
        "id": "ElNTw-2-w2A5",
        "colab_type": "code",
        "colab": {}
      },
      "source": [
        "pip install pydub"
      ],
      "execution_count": 0,
      "outputs": []
    },
    {
      "cell_type": "code",
      "metadata": {
        "id": "PRThA4_ZB_0Z",
        "colab_type": "code",
        "colab": {}
      },
      "source": [
        "from bs4 import BeautifulSoup\n",
        "from IPython.display import Audio\n",
        "from google.colab import drive\n",
        "import re\n",
        "import requests\n",
        "import wave as wv \n",
        "from pydub import AudioSegment"
      ],
      "execution_count": 0,
      "outputs": []
    },
    {
      "cell_type": "markdown",
      "metadata": {
        "id": "ZMJSkbwgod9L",
        "colab_type": "text"
      },
      "source": [
        "#  SETUP\n",
        "\n",
        "---\n",
        "\n"
      ]
    },
    {
      "cell_type": "markdown",
      "metadata": {
        "id": "u9M9LTeEoyeD",
        "colab_type": "text"
      },
      "source": [
        "##<h3>DRIVE<h3>\n",
        "\n",
        "---"
      ]
    },
    {
      "cell_type": "code",
      "metadata": {
        "id": "BCvDIx5cCwkh",
        "colab_type": "code",
        "colab": {}
      },
      "source": [
        "drive.mount('/content/drive/', force_remount=True)"
      ],
      "execution_count": 0,
      "outputs": []
    },
    {
      "cell_type": "markdown",
      "metadata": {
        "id": "TbpcDZNPEMyi",
        "colab_type": "text"
      },
      "source": [
        "##<h3>PLAY<h3>\n",
        "\n",
        "---"
      ]
    },
    {
      "cell_type": "code",
      "metadata": {
        "id": "Mw4qIewaEAGT",
        "colab_type": "code",
        "colab": {}
      },
      "source": [
        "def play(file):\n",
        "  return Audio(file, autoplay=True)"
      ],
      "execution_count": 0,
      "outputs": []
    },
    {
      "cell_type": "markdown",
      "metadata": {
        "id": "G0giJJ4DDXAH",
        "colab_type": "text"
      },
      "source": [
        "# <h1>FONETICS<h1>\n",
        "\n",
        "---"
      ]
    },
    {
      "cell_type": "markdown",
      "metadata": {
        "id": "dB3mthA8Ds3R",
        "colab_type": "text"
      },
      "source": [
        "##<h3>getFonetic<h3>\n",
        "\n",
        "---"
      ]
    },
    {
      "cell_type": "code",
      "metadata": {
        "id": "rjzyoVmxDdYa",
        "colab_type": "code",
        "colab": {}
      },
      "source": [
        "listWoordAf = []\n",
        "\n",
        "def getFonetic(word):\n",
        "  toReturn = ''\n",
        "\n",
        "  with requests.Session() as s:    \n",
        "    url = 'https://nl.wiktionary.org/wiki/{}'.format(word)\n",
        "    r = s.get(url)\n",
        "    if 'Deze pagina bevat geen tekst' in r.text:\n",
        "      word = word.capitalize()\n",
        "      url = 'https://nl.wiktionary.org/wiki/{}'.format(word)\n",
        "      r = s.get(url)\n",
        "    \n",
        "    soup = BeautifulSoup(r.text, 'html')\n",
        "    if \"Woorden in het Nederlands met IPA-weergave\" not in soup.text:\n",
        "      ipa = False    \n",
        "    else:\n",
        "      ipa = soup.find('a', text='IPA')\n",
        "      \n",
        "    if ipa:\n",
        "      ipa = ipa.parent()[1].text.replace('/', '').replace('\\u202f', '')\n",
        "      ipa = ipa.split('\\n')[0].replace('(Noord-Nederland): ', '').split(',')[0]\n",
        "      toReturn = list(ipa)\n",
        "      woordAf = soup.find('span', {'class' : 'mw-headline', 'id' : 'Woordafbreking'}).parent.find_next_sibling()\n",
        "      woordAf = woordAf.text.split('·')\n",
        "      if woordAf:\n",
        "        listWoordAf.append(woordAf)\n",
        "      else:\n",
        "        listWoordAf.append(word)\n",
        "    \n",
        "    else:\n",
        "      woordAf = soup.find('span', {'class' : 'mw-headline', 'id' : 'Woordafbreking'})\n",
        "      \n",
        "      if woordAf:\n",
        "        woordAf = woordAf.parent.find_next_sibling()\n",
        "        woordAf = woordAf.text.split('·')\n",
        "        listWoordAf.append(woordAf)\n",
        "      else:\n",
        "        listWoordAf.append(word)\n",
        "      word = word.lower()\n",
        "      url = 'http://www.woorden.org/woord/{}'.format(word)\n",
        "      r = s.get(url)\n",
        "      soup = BeautifulSoup(r.text, 'html')\n",
        "      if len(soup.find_all('table')) != 0:\n",
        "          table = soup.find_all('table')[0]\n",
        "          if len(table.find_all('td')) > 0:\n",
        "            tData = table.find_all('td')[1].text\n",
        "            tData = tData.replace('[', '').replace(']', '')\n",
        "            toReturn = list(tData)\n",
        "          else: \n",
        "            print(\"Dit woord is onbekend:\", word)\n",
        "            toReturn = list(word)\n",
        "      else:\n",
        "        print(\"Dit woord is onbekend:\", word)\n",
        "        toReturn = list(word)\n",
        "\n",
        "  if 'ː' in toReturn:\n",
        "    index = toReturn.index('ː')\n",
        "    toReturn[(index - 1):(index+1)] = [''.join(toReturn[(index -1 ):(index+1)])]\n",
        "  \n",
        "  if ':' in toReturn:\n",
        "    index = toReturn.index(':')\n",
        "    toReturn[(index - 1):(index+1)] = [''.join(toReturn[(index -1 ):(index+1)])]\n",
        "  if '(' in toReturn:\n",
        "    toReturn.remove('(')\n",
        "    toReturn.remove(')')\n",
        "    #     index = toReturn.index('(')\n",
        "    #     toReturn[(index):(index+3)] = [''.join(toReturn[(index):(index+3)])]\n",
        "\n",
        "  if 'ˈ' in toReturn:\n",
        "    toReturn.remove('ˈ')\n",
        "    #index = toReturn.index('ˈ')\n",
        "    #toReturn[(index):(index+2)] = [''.join(toReturn[(index):(index+2)])] \n",
        "  if \"'\" in toReturn:\n",
        "    toReturn.remove(\"'\")\n",
        "    #index = toReturn.index(\"'\")\n",
        "    #toReturn[(index):(index+2)] = [''.join(toReturn[(index):(index+2)])]\n",
        "    \n",
        "  return toReturn"
      ],
      "execution_count": 0,
      "outputs": []
    },
    {
      "cell_type": "markdown",
      "metadata": {
        "id": "XrQAf1_GEfnv",
        "colab_type": "text"
      },
      "source": [
        "##<h3>toFonArray<h3>\n",
        "\n",
        "---"
      ]
    },
    {
      "cell_type": "code",
      "metadata": {
        "id": "0TXBtnBnEdrc",
        "colab_type": "code",
        "cellView": "code",
        "colab": {}
      },
      "source": [
        "def toFonArray(string):\n",
        "  fonArray = []\n",
        "  string = string.replace(' ', ' &nbsp; ').replace(' .', '&#46;').replace(' ,', '&#44;').lower()\n",
        "  array = string.split(' ')\n",
        "  for word in array:\n",
        "    if word == '&#44;' :\n",
        "      fonArray.append('comma')\n",
        "    elif word == '&#46;' :\n",
        "      fonArray.append('do')\n",
        "    elif word == '&nbsp;' :\n",
        "      fonArray.append('space')\n",
        "    else:\n",
        "      word = word.lower()\n",
        "      fonArray.append(getFonetic(word))\n",
        "  \n",
        "  return fonArray"
      ],
      "execution_count": 0,
      "outputs": []
    },
    {
      "cell_type": "markdown",
      "metadata": {
        "id": "Z5LT_chXF95F",
        "colab_type": "text"
      },
      "source": [
        "## <h3>toAudio<h3>\n",
        "\n",
        "---"
      ]
    },
    {
      "cell_type": "code",
      "metadata": {
        "id": "ZnosEF3cGBqx",
        "colab_type": "code",
        "outputId": "ddd25057-5ebb-4824-e69c-5fa7fe5e12e0",
        "colab": {
          "base_uri": "https://localhost:8080/",
          "height": 34
        }
      },
      "source": [
        "\n",
        "\n",
        "ipaSampa = {\"χ\" : \"x\", \"a\":\"adp\",\"e\":\"edp\",\"ɪː\":\"idp\", \"o\": \"odp\",\"p\":\"p\", \"t\":\"t\", \"k\":\"k\", \"f\":\"f\", \"s\":\"s\", \"ʃ\":\"ss\", \"x\":\"x\", \"b\":\"b\", \"d\":\"d\", \"ɡ\":\"g\", \"v\":\"v\", \"z\":\"z\", \"ʒ\":\"zz\", \"ɣ\":\"gg\", \"ɦ\":\"h_\", \"l\":\"l\", \"r\":\"r\", \"m\":\"m\", \"n\":\"n\", \"ŋ\":\"nn\", \"j\":\"j\", \"w\": \"v_\", \"ʋ\":\"v_\", \"tʃ\":\"tS\", \"ts\":\"ts\", \"dʒ\":\"dZ\", \"ɑ\":\"aa\", \"ɛ\":\"eedp\", \"ɪ\":\"ii\", \"ɔ\":\"oo\", \"ʏ\":\"yy\", \"ə\":\"@\", \"aː\":\"adp\",\"eː\":\"edp\", \"i\":\"i\", \"oː\":\"odp\", \"y\":\"y\", \"øː\":\"2dp\", \"u\":\"u\", \"ɛː\":\"eedp\", \"œː\":\"9dp\",\"iː\":\"idp\", \"yː\":\"ydp\", \"ɔː\":\"oodp\", \"uː\":\"udp\", \"ɛi\":\"Ei\", \"œy\":\"9y\", \"ʌu\":\"Vu\", \"ɑi\":\"Ai\", \"ɔi\":\"i\", \"aːi\":\"adpi\", \"eːu\":\"edpu\", \"iu\":\"iu\", \"oːi\":\"odpi\", \"ui\":\"ui\"}\n",
        "\n",
        "def toAudio(lijst):\n",
        "  audioList = []\n",
        "  outFileTo = '/content/drive/My Drive/speech/results/{}.wav'.format(file_name)\n",
        "  outfilePlay = '/content/drive/My Drive/speech/results/{}.wav'.format(file_name)\n",
        "\n",
        "  for fonWord in lijst:\n",
        "    if type(fonWord) is str:\n",
        "      fonWord = '{}.wav'.format(fonWord)\n",
        "      audioList.append(fonWord)\n",
        "    elif type(fonWord) is list:\n",
        "      for ch in fonWord:\n",
        "        if ch == \"ø\":\n",
        "          ch = \"øː\"\n",
        "        if ch in ipaSampa:\n",
        "          ch = ipaSampa[ch]\n",
        "          print('character ', ch, 'in ipaSampa')\n",
        "        else:\n",
        "          ch = ch\n",
        "          print('character ', ch, 'not in ipaSampa')\n",
        "        ch =  '{}.wav'.format(ch)\n",
        "        audioList.append(ch)\n",
        "      \n",
        "  data= []\n",
        "  \n",
        "  begEind = AudioSegment.from_wav(\"/content/drive/My Drive/speech/first.wav\")\n",
        "  fileEx = begEind\n",
        "  for file in audioList:\n",
        "    file = '/content/drive/My Drive/speech/{}'.format(file)\n",
        "    song = AudioSegment.from_wav(file)\n",
        "    fileEx = fileEx.append(song, crossfade=10)\n",
        "  \n",
        "  fileEx = fileEx.append(begEind, crossfade=100)\n",
        "  fileEx.export(outFileTo, format=\"wav\")\n",
        "  \n",
        "  print('DONE')\n",
        "  return True\n",
        "\n",
        "#Here you have to put the phonetics of your language, see wikipedia or wikitionary for you language. \n",
        "#I use the SAMPA format for the phonetic files. Thus in this list i convert the ipa format from wikitionary or woorden.org to the SAMPA format\n",
        "ipaSampa = {\"ɱ\":\"mm\",\"ɲ\":\"ng\", \"a\":\"adp\",\"e\":\"edp\",\"ɪː\":\"idp\", \"o\": \"odp\",\"p\":\"p\", \"t\":\"t\", \"k\":\"k\", \"f\":\"f\", \"s\":\"s\", \"ʃ\":\"ss\", \"x\":\"x\", \"b\":\"b\", \"d\":\"d\", \"ɡ\":\"g\", \"v\":\"v\", \"z\":\"z\", \"ʒ\":\"zz\", \"ɣ\":\"gg\", \"ɦ\":\"h_\", \"l\":\"l\", \"r\":\"r\", \"m\":\"m\", \"n\":\"n\", \"ŋ\":\"nn\", \"j\":\"j\", \"ʋ\":\"v_\", \"tʃ\":\"tS\", \"ts\":\"ts\", \"dʒ\":\"dZ\", \"ɑ\":\"aa\", \"ɛ\":\"eedp\", \"ɪ\":\"ii\", \"ɔ\":\"oo\", \"ʏ\":\"yy\", \"ə\":\"@\", \"aː\":\"adp\",\"eː\":\"edp\", \"i\":\"i\", \"oː\":\"odp\", \"y\":\"y\", \"øː\":\"2dp\", \"u\":\"u\", \"ɛː\":\"eedp\", \"œː\":\"9dp\",\"iː\":\"idp\", \"yː\":\"ydp\", \"ɔː\":\"oodp\", \"uː\":\"udp\", \"ɛi\":\"Ei\", \"œy\":\"9y\", \"ʌu\":\"Vu\", \"ɑi\":\"Ai\", \"ɔi\":\"i\", \"aːi\":\"adpi\", \"eːu\":\"edpu\", \"iu\":\"iu\", \"oːi\":\"odpi\", \"ui\":\"ui\"}\n",
        "var = \"x\"\n",
        "\n",
        "print(ipaSampa[var])"
      ],
      "execution_count": 0,
      "outputs": [
        {
          "output_type": "stream",
          "text": [
            "x\n"
          ],
          "name": "stdout"
        }
      ]
    },
    {
      "cell_type": "markdown",
      "metadata": {
        "id": "wUvcDuV4koce",
        "colab_type": "text"
      },
      "source": [
        "#<h1>RESULT<h1>\n",
        "\n",
        "---"
      ]
    },
    {
      "cell_type": "code",
      "metadata": {
        "id": "WGSa9fEVSLJ1",
        "colab_type": "code",
        "cellView": "both",
        "colab": {}
      },
      "source": [
        "#\n",
        "#@title Form {vertical-output: true }\n",
        "#@markdown After pressing ctrl+enter there will be an audiofile created\n",
        "listWoordAf = []\n",
        "text = 'The text to my speech' #@param {type:\"string\"}\n",
        "file_name = 'myFirstSpeech' #@param {type:\"string\"}\n",
        "\n",
        "forAudio = toFonArray(text)\n",
        "\n",
        "TF = toAudio(forAudio)\n",
        "  \n",
        "play('/content/drive/My Drive/spraak/results/{}.wav'.format(file_naam))\n",
        "\n",
        "  \n"
      ],
      "execution_count": 0,
      "outputs": []
    }
  ]
}