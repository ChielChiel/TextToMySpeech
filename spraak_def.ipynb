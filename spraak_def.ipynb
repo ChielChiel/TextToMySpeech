{
  "nbformat": 4,
  "nbformat_minor": 0,
  "metadata": {
    "colab": {
      "name": "spraak_def.ipynb",
      "version": "0.3.2",
      "provenance": [],
      "collapsed_sections": [],
      "include_colab_link": true
    },
    "kernelspec": {
      "name": "python3",
      "display_name": "Python 3"
    }
  },
  "cells": [
    {
      "cell_type": "markdown",
      "metadata": {
        "id": "view-in-github",
        "colab_type": "text"
      },
      "source": [
        "<a href=\"https://colab.research.google.com/github/ChielChiel/TextToMySpeech/blob/master/spraak_def.ipynb\" target=\"_parent\"><img src=\"https://colab.research.google.com/assets/colab-badge.svg\" alt=\"Open In Colab\"/></a>"
      ]
    },
    {
      "cell_type": "markdown",
      "metadata": {
        "id": "W4v9l8mLoYCm",
        "colab_type": "text"
      },
      "source": [
        "# IMPORT\n",
        "\n",
        "---\n",
        "\n"
      ]
    },
    {
      "cell_type": "code",
      "metadata": {
        "id": "ElNTw-2-w2A5",
        "colab_type": "code",
        "colab": {}
      },
      "source": [
        "pip install pydub"
      ],
      "execution_count": 0,
      "outputs": []
    },
    {
      "cell_type": "code",
      "metadata": {
        "id": "PRThA4_ZB_0Z",
        "colab_type": "code",
        "colab": {}
      },
      "source": [
        "from bs4 import BeautifulSoup\n",
        "from IPython.display import Audio\n",
        "from google.colab import drive\n",
        "import re\n",
        "import requests\n",
        "import wave as wv \n",
        "from pydub import AudioSegment"
      ],
      "execution_count": 0,
      "outputs": []
    },
    {
      "cell_type": "markdown",
      "metadata": {
        "id": "ZMJSkbwgod9L",
        "colab_type": "text"
      },
      "source": [
        "#  SETUP\n",
        "\n",
        "---\n",
        "\n"
      ]
    },
    {
      "cell_type": "markdown",
      "metadata": {
        "id": "u9M9LTeEoyeD",
        "colab_type": "text"
      },
      "source": [
        "##<h3>DRIVE<h3>\n",
        "\n",
        "---"
      ]
    },
    {
      "cell_type": "code",
      "metadata": {
        "id": "BCvDIx5cCwkh",
        "colab_type": "code",
        "colab": {}
      },
      "source": [
        "drive.mount('/content/drive/', force_remount=True)"
      ],
      "execution_count": 0,
      "outputs": []
    },
    {
      "cell_type": "markdown",
      "metadata": {
        "id": "TbpcDZNPEMyi",
        "colab_type": "text"
      },
      "source": [
        "##<h3>PLAY<h3>\n",
        "\n",
        "---"
      ]
    },
    {
      "cell_type": "code",
      "metadata": {
        "id": "Mw4qIewaEAGT",
        "colab_type": "code",
        "colab": {}
      },
      "source": [
        "def speelAf(file):\n",
        "  return Audio(file, autoplay=True)"
      ],
      "execution_count": 0,
      "outputs": []
    },
    {
      "cell_type": "markdown",
      "metadata": {
        "id": "G0giJJ4DDXAH",
        "colab_type": "text"
      },
      "source": [
        "# <h1>FONETICS<h1>\n",
        "\n",
        "---"
      ]
    },
    {
      "cell_type": "markdown",
      "metadata": {
        "id": "dB3mthA8Ds3R",
        "colab_type": "text"
      },
      "source": [
        "##<h3>getFonetic<h3>\n",
        "\n",
        "---"
      ]
    },
    {
      "cell_type": "code",
      "metadata": {
        "id": "rjzyoVmxDdYa",
        "colab_type": "code",
        "colab": {}
      },
      "source": [
        "listWoordAf = []\n",
        "\n",
        "def getFonetic(word):\n",
        "  toReturn = ''\n",
        "\n",
        "  with requests.Session() as s:    \n",
        "    url = 'https://nl.wiktionary.org/wiki/{}'.format(word)\n",
        "    r = s.get(url)\n",
        "    if 'Deze pagina bevat geen tekst' in r.text:\n",
        "      word = word.capitalize()\n",
        "      url = 'https://nl.wiktionary.org/wiki/{}'.format(word)\n",
        "      r = s.get(url)\n",
        "    \n",
        "    soup = BeautifulSoup(r.text, 'html')\n",
        "    if \"Woorden in het Nederlands met IPA-weergave\" not in soup.text:\n",
        "      #print('nederlands')\n",
        "      ipa = False    \n",
        "    else:\n",
        "      ipa = soup.find('a', text='IPA')\n",
        "      \n",
        "    if ipa:\n",
        "      ipa = ipa.parent()[1].text.replace('/', '').replace('\\u202f', '')\n",
        "      ipa = ipa.split('\\n')[0].replace('(Noord-Nederland): ', '').split(',')[0]\n",
        "      toReturn = list(ipa)\n",
        "      woordAf = soup.find('span', {'class' : 'mw-headline', 'id' : 'Woordafbreking'}).parent.find_next_sibling()\n",
        "      woordAf = woordAf.text.split('·')\n",
        "      if woordAf:\n",
        "        listWoordAf.append(woordAf)\n",
        "      else:\n",
        "        listWoordAf.append(word)\n",
        "    \n",
        "    else:\n",
        "      woordAf = soup.find('span', {'class' : 'mw-headline', 'id' : 'Woordafbreking'})\n",
        "      \n",
        "      if woordAf:\n",
        "        woordAf = woordAf.parent.find_next_sibling()\n",
        "        woordAf = woordAf.text.split('·')\n",
        "        listWoordAf.append(woordAf)\n",
        "      else:\n",
        "        listWoordAf.append(word)\n",
        "      word = word.lower()\n",
        "      url = 'http://www.woorden.org/woord/{}'.format(word)\n",
        "      r = s.get(url)\n",
        "      soup = BeautifulSoup(r.text, 'html')\n",
        "      if len(soup.find_all('table')) != 0:\n",
        "          table = soup.find_all('table')[0]\n",
        "          if len(table.find_all('td')) > 0:\n",
        "            tData = table.find_all('td')[1].text\n",
        "            tData = tData.replace('[', '').replace(']', '')\n",
        "            toReturn = list(tData)\n",
        "          else: \n",
        "            print(\"Dit woord is onbekend:\", word)\n",
        "            toReturn = list(word)\n",
        "      else:\n",
        "        print(\"Dit woord is onbekend:\", word)\n",
        "        toReturn = list(word)\n",
        "\n",
        "  if 'ː' in toReturn:\n",
        "    index = toReturn.index('ː')\n",
        "    toReturn[(index - 1):(index+1)] = [''.join(toReturn[(index -1 ):(index+1)])]\n",
        "  \n",
        "  if ':' in toReturn:\n",
        "    index = toReturn.index(':')\n",
        "    toReturn[(index - 1):(index+1)] = [''.join(toReturn[(index -1 ):(index+1)])]\n",
        "  if '(' in toReturn:\n",
        "    toReturn.remove('(')\n",
        "    toReturn.remove(')')\n",
        "    #     index = toReturn.index('(')\n",
        "    #     toReturn[(index):(index+3)] = [''.join(toReturn[(index):(index+3)])]\n",
        "\n",
        "  if 'ˈ' in toReturn:\n",
        "    toReturn.remove('ˈ')\n",
        "    #index = toReturn.index('ˈ')\n",
        "    #toReturn[(index):(index+2)] = [''.join(toReturn[(index):(index+2)])] \n",
        "  if \"'\" in toReturn:\n",
        "    toReturn.remove(\"'\")\n",
        "    #index = toReturn.index(\"'\")\n",
        "    #toReturn[(index):(index+2)] = [''.join(toReturn[(index):(index+2)])]\n",
        "    \n",
        "  return toReturn"
      ],
      "execution_count": 0,
      "outputs": []
    },
    {
      "cell_type": "markdown",
      "metadata": {
        "id": "XrQAf1_GEfnv",
        "colab_type": "text"
      },
      "source": [
        "##<h3>toFonArray<h3>\n",
        "\n",
        "---"
      ]
    },
    {
      "cell_type": "code",
      "metadata": {
        "id": "0TXBtnBnEdrc",
        "colab_type": "code",
        "cellView": "code",
        "colab": {}
      },
      "source": [
        "def toFonArray(string):\n",
        "  fonArray = []\n",
        "  string = string.replace(' ', ' &nbsp; ').replace(' .', '&#46;').replace(' ,', '&#44;').lower()\n",
        "  array = string.split(' ')\n",
        "  for word in array:\n",
        "    if word == '&#44;' :\n",
        "      fonArray.append('comma')\n",
        "    elif word == '&#46;' :\n",
        "      fonArray.append('do')\n",
        "    elif word == '&nbsp;' :\n",
        "      fonArray.append('space')\n",
        "    else:\n",
        "      word = word.lower()\n",
        "      fonArray.append(getFonetic(word))\n",
        "  \n",
        "  return fonArray"
      ],
      "execution_count": 0,
      "outputs": []
    },
    {
      "cell_type": "markdown",
      "metadata": {
        "id": "Z5LT_chXF95F",
        "colab_type": "text"
      },
      "source": [
        "## <h3>toAudio<h3>\n",
        "\n",
        "---"
      ]
    },
    {
      "cell_type": "code",
      "metadata": {
        "id": "ZnosEF3cGBqx",
        "colab_type": "code",
        "outputId": "ddd25057-5ebb-4824-e69c-5fa7fe5e12e0",
        "colab": {
          "base_uri": "https://localhost:8080/",
          "height": 34
        }
      },
      "source": [
        "#file_naam = 'tweede'\n",
        "\n",
        "\n",
        "ipaSampa = {\"χ\" : \"x\", \"a\":\"adp\",\"e\":\"edp\",\"ɪː\":\"idp\", \"o\": \"odp\",\"p\":\"p\", \"t\":\"t\", \"k\":\"k\", \"f\":\"f\", \"s\":\"s\", \"ʃ\":\"ss\", \"x\":\"x\", \"b\":\"b\", \"d\":\"d\", \"ɡ\":\"g\", \"v\":\"v\", \"z\":\"z\", \"ʒ\":\"zz\", \"ɣ\":\"gg\", \"ɦ\":\"h_\", \"l\":\"l\", \"r\":\"r\", \"m\":\"m\", \"n\":\"n\", \"ŋ\":\"nn\", \"j\":\"j\", \"w\": \"v_\", \"ʋ\":\"v_\", \"tʃ\":\"tS\", \"ts\":\"ts\", \"dʒ\":\"dZ\", \"ɑ\":\"aa\", \"ɛ\":\"eedp\", \"ɪ\":\"ii\", \"ɔ\":\"oo\", \"ʏ\":\"yy\", \"ə\":\"@\", \"aː\":\"adp\",\"eː\":\"edp\", \"i\":\"i\", \"oː\":\"odp\", \"y\":\"y\", \"øː\":\"2dp\", \"u\":\"u\", \"ɛː\":\"eedp\", \"œː\":\"9dp\",\"iː\":\"idp\", \"yː\":\"ydp\", \"ɔː\":\"oodp\", \"uː\":\"udp\", \"ɛi\":\"Ei\", \"œy\":\"9y\", \"ʌu\":\"Vu\", \"ɑi\":\"Ai\", \"ɔi\":\"i\", \"aːi\":\"adpi\", \"eːu\":\"edpu\", \"iu\":\"iu\", \"oːi\":\"odpi\", \"ui\":\"ui\"}\n",
        "\n",
        "def toAudio(lijst):\n",
        "  print(\"filenaam\", file_naam)\n",
        "  audioList = []\n",
        "  outFileTo = '/content/drive/My Drive/spraak/results/{}.wav'.format(file_naam)\n",
        "  outfilePlay = '/content/drive/My Drive/spraak/results/{}.wav'.format(file_naam)\n",
        "\n",
        "  for fonWord in lijst:\n",
        "    if type(fonWord) is str:\n",
        "      fonWord = '{}.wav'.format(fonWord)\n",
        "      audioList.append(fonWord)\n",
        "    elif type(fonWord) is list:\n",
        "      for ch in fonWord:\n",
        "        if ch == \"ø\":\n",
        "          ch = \"øː\"\n",
        "        if ch in ipaSampa:\n",
        "          ch = ipaSampa[ch]\n",
        "          print('character ', ch, 'in ipaSampa')\n",
        "        else:\n",
        "          ch = ch\n",
        "          print('character ', ch, 'not in ipaSampa')\n",
        "        ch =  '{}.wav'.format(ch)\n",
        "        audioList.append(ch)\n",
        "      \n",
        "  data= []\n",
        "  \n",
        "  begEind = AudioSegment.from_wav(\"/content/drive/My Drive/spraak/eerste.wav\")\n",
        "  fileEx = begEind\n",
        "  #print(fileEx)\n",
        "  for file in audioList:\n",
        "    file = '/content/drive/My Drive/spraak/{}'.format(file)\n",
        "    #print(file)\n",
        "    song = AudioSegment.from_wav(file)\n",
        "    #fileEx += song\n",
        "    fileEx = fileEx.append(song, crossfade=10)\n",
        "  \n",
        "  fileEx = fileEx.append(begEind, crossfade=100)\n",
        "  fileEx.export(outFileTo, format=\"wav\")\n",
        "  \n",
        "  print('DONE')\n",
        "  return True\n",
        "\n",
        "ipaSampa = {\"ɱ\":\"mm\",\"ɲ\":\"ng\", \"a\":\"adp\",\"e\":\"edp\",\"ɪː\":\"idp\", \"o\": \"odp\",\"p\":\"p\", \"t\":\"t\", \"k\":\"k\", \"f\":\"f\", \"s\":\"s\", \"ʃ\":\"ss\", \"x\":\"x\", \"b\":\"b\", \"d\":\"d\", \"ɡ\":\"g\", \"v\":\"v\", \"z\":\"z\", \"ʒ\":\"zz\", \"ɣ\":\"gg\", \"ɦ\":\"h_\", \"l\":\"l\", \"r\":\"r\", \"m\":\"m\", \"n\":\"n\", \"ŋ\":\"nn\", \"j\":\"j\", \"ʋ\":\"v_\", \"tʃ\":\"tS\", \"ts\":\"ts\", \"dʒ\":\"dZ\", \"ɑ\":\"aa\", \"ɛ\":\"eedp\", \"ɪ\":\"ii\", \"ɔ\":\"oo\", \"ʏ\":\"yy\", \"ə\":\"@\", \"aː\":\"adp\",\"eː\":\"edp\", \"i\":\"i\", \"oː\":\"odp\", \"y\":\"y\", \"øː\":\"2dp\", \"u\":\"u\", \"ɛː\":\"eedp\", \"œː\":\"9dp\",\"iː\":\"idp\", \"yː\":\"ydp\", \"ɔː\":\"oodp\", \"uː\":\"udp\", \"ɛi\":\"Ei\", \"œy\":\"9y\", \"ʌu\":\"Vu\", \"ɑi\":\"Ai\", \"ɔi\":\"i\", \"aːi\":\"adpi\", \"eːu\":\"edpu\", \"iu\":\"iu\", \"oːi\":\"odpi\", \"ui\":\"ui\"}\n",
        "var = \"x\"\n",
        "\n",
        "print(ipaSampa[var])"
      ],
      "execution_count": 0,
      "outputs": [
        {
          "output_type": "stream",
          "text": [
            "x\n"
          ],
          "name": "stdout"
        }
      ]
    },
    {
      "cell_type": "markdown",
      "metadata": {
        "id": "wUvcDuV4koce",
        "colab_type": "text"
      },
      "source": [
        "#<h1>RESULTAAT<h1>\n",
        "\n",
        "---"
      ]
    },
    {
      "cell_type": "code",
      "metadata": {
        "id": "WGSa9fEVSLJ1",
        "colab_type": "code",
        "cellView": "both",
        "outputId": "8d92d666-4b21-439e-fb2a-a153ed14f4ae",
        "colab": {
          "base_uri": "https://localhost:8080/",
          "height": 717
        }
      },
      "source": [
        "#\n",
        "#@title Form {vertical-output: true }\n",
        "#@markdown Na het drukken op ctrl+enter komt hieronder je geluidsbestand te staan.\n",
        "listWoordAf = []\n",
        "tekst = 'De wereld ligt is mooi' #@param {type:\"string\"}\n",
        "file_naam = 'test_pasen' #@param {type:\"string\"}\n",
        "\n",
        "#print(tekst)\n",
        "forAudio = toFonArray(tekst)\n",
        "#print('De fonetische uitspraak:\\n', forAudio, '\\n')\n",
        "\n",
        "TF = toAudio(forAudio)\n",
        "\n",
        "\n",
        "#Direct_afspelen = True #@param {type:\"boolean\"}\n",
        "  \n",
        "#print('De woordafbreking:\\n',listWoordAf)\n",
        "speelAf('/content/drive/My Drive/spraak/results/{}.wav'.format(file_naam))\n",
        "\n",
        "  \n"
      ],
      "execution_count": 0,
      "outputs": [
        {
          "output_type": "stream",
          "text": [
            "filenaam test_pasen\n",
            "character  d in ipaSampa\n",
            "character  @ in ipaSampa\n",
            "character  v_ in ipaSampa\n",
            "character  idp in ipaSampa\n",
            "character  . not in ipaSampa\n",
            "character  r in ipaSampa\n",
            "character  oo in ipaSampa\n",
            "character  ɫ not in ipaSampa\n",
            "character  t in ipaSampa\n",
            "character  l in ipaSampa\n",
            "character  ii in ipaSampa\n",
            "character  x in ipaSampa\n",
            "character  t in ipaSampa\n",
            "character  ii in ipaSampa\n",
            "character  s in ipaSampa\n",
            "character  m in ipaSampa\n",
            "character  odp in ipaSampa\n",
            "character  j in ipaSampa\n"
          ],
          "name": "stdout"
        },
        {
          "output_type": "error",
          "ename": "FileNotFoundError",
          "evalue": "ignored",
          "traceback": [
            "\u001b[0;31m---------------------------------------------------------------------------\u001b[0m",
            "\u001b[0;31mFileNotFoundError\u001b[0m                         Traceback (most recent call last)",
            "\u001b[0;32m<ipython-input-11-f6e99d29b19d>\u001b[0m in \u001b[0;36m<module>\u001b[0;34m()\u001b[0m\n\u001b[1;32m      7\u001b[0m \u001b[0;31m#print('De fonetische uitspraak:\\n', forAudio, '\\n')\u001b[0m\u001b[0;34m\u001b[0m\u001b[0;34m\u001b[0m\u001b[0;34m\u001b[0m\u001b[0m\n\u001b[1;32m      8\u001b[0m \u001b[0;34m\u001b[0m\u001b[0m\n\u001b[0;32m----> 9\u001b[0;31m \u001b[0mTF\u001b[0m \u001b[0;34m=\u001b[0m \u001b[0mtoAudio\u001b[0m\u001b[0;34m(\u001b[0m\u001b[0mforAudio\u001b[0m\u001b[0;34m)\u001b[0m\u001b[0;34m\u001b[0m\u001b[0;34m\u001b[0m\u001b[0m\n\u001b[0m\u001b[1;32m     10\u001b[0m \u001b[0;34m\u001b[0m\u001b[0m\n\u001b[1;32m     11\u001b[0m \u001b[0;34m\u001b[0m\u001b[0m\n",
            "\u001b[0;32m<ipython-input-8-8ff37a783b94>\u001b[0m in \u001b[0;36mtoAudio\u001b[0;34m(lijst)\u001b[0m\n\u001b[1;32m     34\u001b[0m     \u001b[0mfile\u001b[0m \u001b[0;34m=\u001b[0m \u001b[0;34m'/content/drive/My Drive/spraak/{}'\u001b[0m\u001b[0;34m.\u001b[0m\u001b[0mformat\u001b[0m\u001b[0;34m(\u001b[0m\u001b[0mfile\u001b[0m\u001b[0;34m)\u001b[0m\u001b[0;34m\u001b[0m\u001b[0;34m\u001b[0m\u001b[0m\n\u001b[1;32m     35\u001b[0m     \u001b[0;31m#print(file)\u001b[0m\u001b[0;34m\u001b[0m\u001b[0;34m\u001b[0m\u001b[0;34m\u001b[0m\u001b[0m\n\u001b[0;32m---> 36\u001b[0;31m     \u001b[0msong\u001b[0m \u001b[0;34m=\u001b[0m \u001b[0mAudioSegment\u001b[0m\u001b[0;34m.\u001b[0m\u001b[0mfrom_wav\u001b[0m\u001b[0;34m(\u001b[0m\u001b[0mfile\u001b[0m\u001b[0;34m)\u001b[0m\u001b[0;34m\u001b[0m\u001b[0;34m\u001b[0m\u001b[0m\n\u001b[0m\u001b[1;32m     37\u001b[0m     \u001b[0;31m#fileEx += song\u001b[0m\u001b[0;34m\u001b[0m\u001b[0;34m\u001b[0m\u001b[0;34m\u001b[0m\u001b[0m\n\u001b[1;32m     38\u001b[0m     \u001b[0mfileEx\u001b[0m \u001b[0;34m=\u001b[0m \u001b[0mfileEx\u001b[0m\u001b[0;34m.\u001b[0m\u001b[0mappend\u001b[0m\u001b[0;34m(\u001b[0m\u001b[0msong\u001b[0m\u001b[0;34m,\u001b[0m \u001b[0mcrossfade\u001b[0m\u001b[0;34m=\u001b[0m\u001b[0;36m10\u001b[0m\u001b[0;34m)\u001b[0m\u001b[0;34m\u001b[0m\u001b[0;34m\u001b[0m\u001b[0m\n",
            "\u001b[0;32m/usr/local/lib/python3.6/dist-packages/pydub/audio_segment.py\u001b[0m in \u001b[0;36mfrom_wav\u001b[0;34m(cls, file, parameters)\u001b[0m\n\u001b[1;32m    726\u001b[0m     \u001b[0;34m@\u001b[0m\u001b[0mclassmethod\u001b[0m\u001b[0;34m\u001b[0m\u001b[0;34m\u001b[0m\u001b[0m\n\u001b[1;32m    727\u001b[0m     \u001b[0;32mdef\u001b[0m \u001b[0mfrom_wav\u001b[0m\u001b[0;34m(\u001b[0m\u001b[0mcls\u001b[0m\u001b[0;34m,\u001b[0m \u001b[0mfile\u001b[0m\u001b[0;34m,\u001b[0m \u001b[0mparameters\u001b[0m\u001b[0;34m=\u001b[0m\u001b[0;32mNone\u001b[0m\u001b[0;34m)\u001b[0m\u001b[0;34m:\u001b[0m\u001b[0;34m\u001b[0m\u001b[0;34m\u001b[0m\u001b[0m\n\u001b[0;32m--> 728\u001b[0;31m         \u001b[0;32mreturn\u001b[0m \u001b[0mcls\u001b[0m\u001b[0;34m.\u001b[0m\u001b[0mfrom_file\u001b[0m\u001b[0;34m(\u001b[0m\u001b[0mfile\u001b[0m\u001b[0;34m,\u001b[0m \u001b[0;34m'wav'\u001b[0m\u001b[0;34m,\u001b[0m \u001b[0mparameters\u001b[0m\u001b[0;34m=\u001b[0m\u001b[0mparameters\u001b[0m\u001b[0;34m)\u001b[0m\u001b[0;34m\u001b[0m\u001b[0;34m\u001b[0m\u001b[0m\n\u001b[0m\u001b[1;32m    729\u001b[0m \u001b[0;34m\u001b[0m\u001b[0m\n\u001b[1;32m    730\u001b[0m     \u001b[0;34m@\u001b[0m\u001b[0mclassmethod\u001b[0m\u001b[0;34m\u001b[0m\u001b[0;34m\u001b[0m\u001b[0m\n",
            "\u001b[0;32m/usr/local/lib/python3.6/dist-packages/pydub/audio_segment.py\u001b[0m in \u001b[0;36mfrom_file\u001b[0;34m(cls, file, format, codec, parameters, **kwargs)\u001b[0m\n\u001b[1;32m    608\u001b[0m         \u001b[0;32mexcept\u001b[0m \u001b[0mTypeError\u001b[0m\u001b[0;34m:\u001b[0m\u001b[0;34m\u001b[0m\u001b[0;34m\u001b[0m\u001b[0m\n\u001b[1;32m    609\u001b[0m             \u001b[0mfilename\u001b[0m \u001b[0;34m=\u001b[0m \u001b[0;32mNone\u001b[0m\u001b[0;34m\u001b[0m\u001b[0;34m\u001b[0m\u001b[0m\n\u001b[0;32m--> 610\u001b[0;31m         \u001b[0mfile\u001b[0m \u001b[0;34m=\u001b[0m \u001b[0m_fd_or_path_or_tempfile\u001b[0m\u001b[0;34m(\u001b[0m\u001b[0mfile\u001b[0m\u001b[0;34m,\u001b[0m \u001b[0;34m'rb'\u001b[0m\u001b[0;34m,\u001b[0m \u001b[0mtempfile\u001b[0m\u001b[0;34m=\u001b[0m\u001b[0;32mFalse\u001b[0m\u001b[0;34m)\u001b[0m\u001b[0;34m\u001b[0m\u001b[0;34m\u001b[0m\u001b[0m\n\u001b[0m\u001b[1;32m    611\u001b[0m \u001b[0;34m\u001b[0m\u001b[0m\n\u001b[1;32m    612\u001b[0m         \u001b[0;32mif\u001b[0m \u001b[0mformat\u001b[0m\u001b[0;34m:\u001b[0m\u001b[0;34m\u001b[0m\u001b[0;34m\u001b[0m\u001b[0m\n",
            "\u001b[0;32m/usr/local/lib/python3.6/dist-packages/pydub/utils.py\u001b[0m in \u001b[0;36m_fd_or_path_or_tempfile\u001b[0;34m(fd, mode, tempfile)\u001b[0m\n\u001b[1;32m     55\u001b[0m \u001b[0;34m\u001b[0m\u001b[0m\n\u001b[1;32m     56\u001b[0m     \u001b[0;32mif\u001b[0m \u001b[0misinstance\u001b[0m\u001b[0;34m(\u001b[0m\u001b[0mfd\u001b[0m\u001b[0;34m,\u001b[0m \u001b[0mbasestring\u001b[0m\u001b[0;34m)\u001b[0m\u001b[0;34m:\u001b[0m\u001b[0;34m\u001b[0m\u001b[0;34m\u001b[0m\u001b[0m\n\u001b[0;32m---> 57\u001b[0;31m         \u001b[0mfd\u001b[0m \u001b[0;34m=\u001b[0m \u001b[0mopen\u001b[0m\u001b[0;34m(\u001b[0m\u001b[0mfd\u001b[0m\u001b[0;34m,\u001b[0m \u001b[0mmode\u001b[0m\u001b[0;34m=\u001b[0m\u001b[0mmode\u001b[0m\u001b[0;34m)\u001b[0m\u001b[0;34m\u001b[0m\u001b[0;34m\u001b[0m\u001b[0m\n\u001b[0m\u001b[1;32m     58\u001b[0m \u001b[0;34m\u001b[0m\u001b[0m\n\u001b[1;32m     59\u001b[0m     \u001b[0;32mtry\u001b[0m\u001b[0;34m:\u001b[0m\u001b[0;34m\u001b[0m\u001b[0;34m\u001b[0m\u001b[0m\n",
            "\u001b[0;31mFileNotFoundError\u001b[0m: [Errno 2] No such file or directory: '/content/drive/My Drive/spraak/idp.wav'"
          ]
        }
      ]
    }
  ]
}